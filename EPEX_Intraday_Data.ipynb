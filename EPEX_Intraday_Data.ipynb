{
  "nbformat": 4,
  "nbformat_minor": 0,
  "metadata": {
    "colab": {
      "name": "EPEX_Intraday_Data.ipynb",
      "provenance": [],
      "collapsed_sections": [],
      "authorship_tag": "ABX9TyOFWyxqxxBL1bMUW47io8Mw",
      "include_colab_link": true
    },
    "kernelspec": {
      "name": "python3",
      "display_name": "Python 3"
    },
    "language_info": {
      "name": "python"
    }
  },
  "cells": [
    {
      "cell_type": "markdown",
      "metadata": {
        "id": "view-in-github",
        "colab_type": "text"
      },
      "source": [
        "<a href=\"https://colab.research.google.com/github/RetoHe/epex-spot-intraday-timeseries-analysis/blob/main/EPEX_Intraday_Data.ipynb\" target=\"_parent\"><img src=\"https://colab.research.google.com/assets/colab-badge.svg\" alt=\"Open In Colab\"/></a>"
      ]
    },
    {
      "cell_type": "markdown",
      "metadata": {
        "id": "8wvrxWhVHZ00"
      },
      "source": [
        "# Download and Data Preparation EPEX Spot Intradaydata\n",
        "### 1. Download all Intradaytrades for the German Market for 2021\n",
        "### 2. Merge all files to a single Dataframe\n",
        "### 3. Prepare the Data\n",
        "### 4. Export the Dataframe to csv"
      ]
    },
    {
      "cell_type": "code",
      "metadata": {
        "colab": {
          "base_uri": "https://localhost:8080/"
        },
        "id": "pxqI10Rtigl4",
        "outputId": "d87f2e12-e4bb-4c45-dccf-84caf58c664f"
      },
      "source": [
        "! pip install pysftp"
      ],
      "execution_count": null,
      "outputs": [
        {
          "output_type": "stream",
          "name": "stdout",
          "text": [
            "Requirement already satisfied: pysftp in /usr/local/lib/python3.7/dist-packages (0.2.9)\n",
            "Requirement already satisfied: paramiko>=1.17 in /usr/local/lib/python3.7/dist-packages (from pysftp) (2.8.0)\n",
            "Requirement already satisfied: bcrypt>=3.1.3 in /usr/local/lib/python3.7/dist-packages (from paramiko>=1.17->pysftp) (3.2.0)\n",
            "Requirement already satisfied: cryptography>=2.5 in /usr/local/lib/python3.7/dist-packages (from paramiko>=1.17->pysftp) (35.0.0)\n",
            "Requirement already satisfied: pynacl>=1.0.1 in /usr/local/lib/python3.7/dist-packages (from paramiko>=1.17->pysftp) (1.4.0)\n",
            "Requirement already satisfied: six>=1.4.1 in /usr/local/lib/python3.7/dist-packages (from bcrypt>=3.1.3->paramiko>=1.17->pysftp) (1.15.0)\n",
            "Requirement already satisfied: cffi>=1.1 in /usr/local/lib/python3.7/dist-packages (from bcrypt>=3.1.3->paramiko>=1.17->pysftp) (1.15.0)\n",
            "Requirement already satisfied: pycparser in /usr/local/lib/python3.7/dist-packages (from cffi>=1.1->bcrypt>=3.1.3->paramiko>=1.17->pysftp) (2.21)\n"
          ]
        }
      ]
    },
    {
      "cell_type": "code",
      "metadata": {
        "id": "KxbhOxtXimua"
      },
      "source": [
        "import pysftp\n",
        "import pandas as pd"
      ],
      "execution_count": null,
      "outputs": []
    },
    {
      "cell_type": "code",
      "metadata": {
        "colab": {
          "base_uri": "https://localhost:8080/"
        },
        "id": "P9FRDHqfirzu",
        "outputId": "8c490091-1992-4ce4-e946-a3f40abdf066"
      },
      "source": [
        "cnopts = pysftp.CnOpts()\n",
        "cnopts.hostkeys = None"
      ],
      "execution_count": null,
      "outputs": [
        {
          "output_type": "stream",
          "name": "stderr",
          "text": [
            "/usr/local/lib/python3.7/dist-packages/pysftp/__init__.py:61: UserWarning: Failed to load HostKeys from /root/.ssh/known_hosts.  You will need to explicitly load HostKeys (cnopts.hostkeys.load(filename)) or disableHostKey checking (cnopts.hostkeys = None).\n",
            "  warnings.warn(wmsg, UserWarning)\n"
          ]
        }
      ]
    },
    {
      "cell_type": "code",
      "metadata": {
        "id": "NmCkGkKUit3k"
      },
      "source": [
        "# Insert your own credentials\n",
        "sftp = pysftp.Connection(host=\"ftp.epexspot.com\", username=\"Trading_at_syneco.net\", password=\"syneco01\", cnopts=cnopts)"
      ],
      "execution_count": null,
      "outputs": []
    },
    {
      "cell_type": "code",
      "metadata": {
        "id": "AqUwFkdaiwSS"
      },
      "source": [
        "# move to the correct directory\n",
        "sftp.chdir(\"/germany/Intraday Continuous/EOD/Transactions\")"
      ],
      "execution_count": null,
      "outputs": []
    },
    {
      "cell_type": "code",
      "metadata": {
        "colab": {
          "base_uri": "https://localhost:8080/"
        },
        "id": "yN60yqVUi3sU",
        "outputId": "97fa68c9-a88c-4a68-ecd0-4c4c20f2aaf5"
      },
      "source": [
        "# create folder for the data\n",
        "!mkdir data"
      ],
      "execution_count": null,
      "outputs": [
        {
          "output_type": "stream",
          "name": "stdout",
          "text": [
            "mkdir: cannot create directory ‘data’: File exists\n"
          ]
        }
      ]
    },
    {
      "cell_type": "code",
      "metadata": {
        "id": "PXFu2CeIi0fB"
      },
      "source": [
        "german_dir = \"/germany/Intraday Continuous/EOD/Transactions/\"\n",
        "# download all intradaytrades for 2021\n",
        "for element in sftp.listdir():\n",
        "    if element[-3:] == \"csv\":\n",
        "        new_path = german_dir + element\n",
        "        sftp.get(new_path, \"data/intradaydata_DE_{}.csv\".format(element[29:40]))\n",
        "    else:\n",
        "        pass\n",
        "        "
      ],
      "execution_count": null,
      "outputs": []
    },
    {
      "cell_type": "code",
      "metadata": {
        "id": "EP4mE7ooi6l5"
      },
      "source": [
        "# Basic syntax:\n",
        "import glob # Package for Unix-style pathname pattern expansion\n",
        "import os   # Python operating system interface\n",
        "\n",
        "directory = 'data/'\n",
        "# Obtain list of filenames that end in .txt in the directory\n",
        "all_files = glob.glob(os.path.join(directory, \"*.csv\"))\n",
        "# Where os.path.join creates the os-specific path to each file\n",
        "\n",
        "# Import data however you like. To append data in a single pandas \n",
        "# dataframe and a single list, you can do:\n",
        "master_df = pd.DataFrame()\n",
        "# map types of the dataframe\n",
        "column_names = ['Date', 'Market Area Buy', 'Market Area Sell', 'Hour from', 'Hour to', 'Quantity (MW)', 'Price (EUR)', 'Time Stamp', 'Trade ID']\n",
        "master_df = pd.DataFrame(columns=column_names)\n",
        "for filename in all_files:\n",
        "    data = pd.read_csv(filename, dtype={'Date': 'str', 'Market Area Buy': 'str', 'Market Area Sell': 'str', 'Hour from': 'str', 'Hour to': 'str', 'Quantity (MW)': float, 'Price (EUR)': float, 'Time Stamp': 'str', 'Trade ID': 'str'}, skiprows=[0])\n",
        "    master_df = master_df.append(data)"
      ],
      "execution_count": null,
      "outputs": []
    },
    {
      "cell_type": "code",
      "metadata": {
        "colab": {
          "base_uri": "https://localhost:8080/",
          "height": 164
        },
        "id": "X-hnp3MES3g_",
        "outputId": "0db343f8-e34c-4efc-84f4-858d7aaae220"
      },
      "source": [
        "master_df = master_df.rename(columns={\"Hour from\": \"Product\"})"
      ],
      "execution_count": null,
      "outputs": [
        {
          "output_type": "error",
          "ename": "NameError",
          "evalue": "ignored",
          "traceback": [
            "\u001b[0;31m---------------------------------------------------------------------------\u001b[0m",
            "\u001b[0;31mNameError\u001b[0m                                 Traceback (most recent call last)",
            "\u001b[0;32m<ipython-input-1-2abe660b1de3>\u001b[0m in \u001b[0;36m<module>\u001b[0;34m()\u001b[0m\n\u001b[0;32m----> 1\u001b[0;31m \u001b[0mmaster_df\u001b[0m\u001b[0;34m.\u001b[0m\u001b[0mtail\u001b[0m\u001b[0;34m(\u001b[0m\u001b[0;34m)\u001b[0m\u001b[0;34m\u001b[0m\u001b[0;34m\u001b[0m\u001b[0m\n\u001b[0m",
            "\u001b[0;31mNameError\u001b[0m: name 'master_df' is not defined"
          ]
        }
      ]
    },
    {
      "cell_type": "code",
      "metadata": {
        "id": "-FuDit6ty-ko"
      },
      "source": [
        "master_df = master_df.drop(['Hour to'], axis=1)"
      ],
      "execution_count": null,
      "outputs": []
    },
    {
      "cell_type": "code",
      "metadata": {
        "id": "jDGjsF2P-PUr"
      },
      "source": [
        "# helper function for getting the MWh of the trade\n",
        "def get_mwh(data):\n",
        "    work = []\n",
        "    for i in range(len(data)):\n",
        "        if \"hh\" in data[\"Product\"][i]:\n",
        "            work.append(data[\"Quantity (MW)\"][i] * 0.5)\n",
        "        elif \"qh\" in data[\"Product\"][i]:\n",
        "            work.append(data[\"Quantity (MW)\"][i] * 0.25)\n",
        "        else:\n",
        "            work.append(data[\"Quantity (MW)\"][i])\n",
        "\n",
        "    return work"
      ],
      "execution_count": null,
      "outputs": []
    },
    {
      "cell_type": "code",
      "metadata": {
        "id": "sD-7huke-QES"
      },
      "source": [
        "# helper function for getting product type\n",
        "def get_type(data):\n",
        "    product_type = []\n",
        "    for i in range(len(data)):\n",
        "        if \"hh\" in data[\"Product\"][i]:\n",
        "            product_type.append(\"HalfHour\")\n",
        "        elif \"qh\" in data[\"Product\"][i]:\n",
        "            product_type.append(\"QuarterHour\")\n",
        "        else:\n",
        "            product_type.append(\"Hour\")\n",
        "\n",
        "    return product_type"
      ],
      "execution_count": null,
      "outputs": []
    },
    {
      "cell_type": "code",
      "metadata": {
        "id": "qRehFQ1U-TAs"
      },
      "source": [
        "master_df[\"Work (MWh)\"] = get_mwh(master_df)"
      ],
      "execution_count": null,
      "outputs": []
    },
    {
      "cell_type": "code",
      "metadata": {
        "id": "kQiNw4sJ-ZY4"
      },
      "source": [
        "master_df[\"Value (EUR)\"] = master_df[\"Work (MWh)\"] * master_df[\"Price (EUR)\"]"
      ],
      "execution_count": null,
      "outputs": []
    },
    {
      "cell_type": "code",
      "metadata": {
        "id": "g4iZBKIO-Zh4"
      },
      "source": [
        "master_df[\"Product_Type\"] = get_type(master_df)"
      ],
      "execution_count": null,
      "outputs": []
    },
    {
      "cell_type": "code",
      "metadata": {
        "id": "82S86DIV_AUG"
      },
      "source": [
        "master_df.to_csv(\"master_data.csv\", index=False)"
      ],
      "execution_count": null,
      "outputs": []
    },
    {
      "cell_type": "code",
      "metadata": {
        "id": "QGr45osvIirQ"
      },
      "source": [
        "from google.colab import files\n",
        "files.download('master_data.csv') "
      ],
      "execution_count": null,
      "outputs": []
    }
  ]
}